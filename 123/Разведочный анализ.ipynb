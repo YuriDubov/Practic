{
 "cells": [
  {
   "cell_type": "code",
   "execution_count": null,
   "id": "4327d6ae",
   "metadata": {},
   "outputs": [],
   "source": [
    "df.head()\n",
    "\n",
    "#Лист с признаками которые не будут учитываться при визуализации (Не категориальные)\n",
    "skip = ['AGE', 'INCOME_MAIN_AMT', 'INCOME_MAIN_AMT_USD']\n",
    "#Не категориальные признаки\n",
    "for i in skip:\n",
    "    if type(df[i].iloc[2]) == np.int64 or type(df[i].iloc[2]) == np.float64:\n",
    "        sns.displot(df, x=i, kind=\"kde\", fill=True)\n",
    "        \n",
    "        \n",
    "#Категориальные признаки\n",
    "for i in df.columns:\n",
    "    if i not in skip and i != 'REG_CODE':\n",
    "        sns.catplot(x=i, kind='count', palette='ch:25', height=2, aspect=5, data=df)\n",
    "        plt.show()\n",
    "        \n",
    "        \n",
    "sns.catplot(x='REG_CODE', kind='count', palette='ch:25', height=4, aspect=5, data=df)\n",
    "plt.xticks(rotation=90)\n",
    "plt.show()\n",
    "\n"
   ]
  }
 ],
 "metadata": {
  "kernelspec": {
   "display_name": "Python 3",
   "language": "python",
   "name": "python3"
  },
  "language_info": {
   "codemirror_mode": {
    "name": "ipython",
    "version": 3
   },
   "file_extension": ".py",
   "mimetype": "text/x-python",
   "name": "python",
   "nbconvert_exporter": "python",
   "pygments_lexer": "ipython3",
   "version": "3.8.8"
  }
 },
 "nbformat": 4,
 "nbformat_minor": 5
}
