{
 "cells": [
  {
   "cell_type": "code",
   "execution_count": null,
   "id": "6ae604b0",
   "metadata": {},
   "outputs": [],
   "source": [
    "df.head()\n",
    "\n",
    "#обьявляю MinMaxScaler\n",
    "scaler = MinMaxScaler()\n",
    "#преобразую данные\n",
    "X = scaler.fit_transform(X)\n",
    "\n",
    "#Помещу их в переменную X\n",
    "X = df[[\"AGE\", \"EDUCATION_LEVEL\", \"REG_CODE\", \"GMCLUSTS\"]]\n",
    "y = df[\"GENDER\"]\n",
    "\n",
    "#Разделение данных на обучающий и тестовый набор\n",
    "X_train, X_test, y_train, y_test = train_test_split(X, y, test_size=0.3, random_state=42, stratify=y)\n",
    "\n",
    "\n",
    "#Объявление классификатор\n",
    "neigh = KNeighborsClassifier()\n",
    "#Обучение классификатора\n",
    "neigh.fit(X_train, y_train)\n",
    "\n",
    "#Объявление классификатор\n",
    "gnb = GaussianNB()\n",
    "#Обучение классификатора\n",
    "gnb.fit(X_train, y_train)\n",
    "GaussianNB()\n",
    "\n",
    "#Объявление классификатор\n",
    "clf = LogisticRegression()\n",
    "#Обучение классификатора\n",
    "clf.fit(X_train, y_train)\n",
    "\n",
    "#Вывожу результаты метрик при помощи classification_report\n",
    "print(classification_report(y_test, neigh.predict(X_test)))\n",
    "\n",
    "#Вывожу результаты метрик при помощи classification_report\n",
    "print(classification_report(y_test, gnb.predict(X_test)))\n",
    "\n",
    "#Вывожу результаты метрик при помощи classification_report\n",
    "print(classification_report(y_test, clf.predict(X_test)))\n",
    "\n"
   ]
  }
 ],
 "metadata": {
  "kernelspec": {
   "display_name": "Python 3",
   "language": "python",
   "name": "python3"
  },
  "language_info": {
   "codemirror_mode": {
    "name": "ipython",
    "version": 3
   },
   "file_extension": ".py",
   "mimetype": "text/x-python",
   "name": "python",
   "nbconvert_exporter": "python",
   "pygments_lexer": "ipython3",
   "version": "3.8.8"
  }
 },
 "nbformat": 4,
 "nbformat_minor": 5
}
