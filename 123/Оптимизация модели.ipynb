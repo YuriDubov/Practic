{
 "cells": [
  {
   "cell_type": "code",
   "execution_count": null,
   "id": "12e4fe60",
   "metadata": {},
   "outputs": [],
   "source": [
    "df.head()\n",
    "\n",
    "#обьявляю MinMaxScaler\n",
    "scaler = MinMaxScaler()\n",
    "#преобразую данные\n",
    "X = scaler.fit_transform(X)\n",
    "\n",
    "#Помещу их в переменную X\n",
    "X = df[[\"AGE\", \"EDUCATION_LEVEL\", \"REG_CODE\", \"GMCLUSTS\", 'INCOME_MAIN_AMT_USD']]\n",
    "y = df[\"GENDER\"]\n",
    "\n",
    "#Разделение данных на обучающий и тестовый набор\n",
    "X_train, X_test, y_train, y_test = train_test_split(X, y, test_size=0.3, random_state=42, stratify=y)\n",
    "\n",
    "#Объявление классификатор\n",
    "neigh2 = KNeighborsClassifier(n_neighbors=2, leaf_size=10, p=3, n_jobs=-1)\n",
    "#Обучение классификатора\n",
    "neigh2.fit(X_train, y_train)\n",
    "\n",
    "#Вывожу результаты метрик при помощи classification_report\n",
    "print(classification_report(y_test, neigh2.predict(X_test)))\n",
    "\n",
    "import pickle\n",
    "filename = 'finalized_model.sav'\n",
    "pickle.dump(neigh, open(filename, 'wb'))\n",
    "\n"
   ]
  }
 ],
 "metadata": {
  "kernelspec": {
   "display_name": "Python 3",
   "language": "python",
   "name": "python3"
  },
  "language_info": {
   "codemirror_mode": {
    "name": "ipython",
    "version": 3
   },
   "file_extension": ".py",
   "mimetype": "text/x-python",
   "name": "python",
   "nbconvert_exporter": "python",
   "pygments_lexer": "ipython3",
   "version": "3.8.8"
  }
 },
 "nbformat": 4,
 "nbformat_minor": 5
}
