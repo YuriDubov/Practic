{
 "cells": [
  {
   "cell_type": "code",
   "execution_count": null,
   "id": "f6042cda",
   "metadata": {},
   "outputs": [],
   "source": [
    "df.dropna(inplace=True)\n",
    "df.reset_index(drop=True, inplace=True)\n",
    "\n",
    "#Вывод коробчатых диаграм в цикле только по числовым атриубтам\n",
    "for col in df.select_dtypes(exclude=[\"object\", \"datetime64[ns]\"]).columns:\n",
    "    #построение фигуры\n",
    "    plt.figure()\n",
    "    #Заголовк\n",
    "    plt.title(col)\n",
    "    #Вывод диаграммы\n",
    "    plt.boxplot(df[col])\n",
    "    plt.show()\n",
    "    \n",
    "\n",
    "#Вывод коробчатых диаграм в цикле только по числовым атриубтам\n",
    "for col in df.select_dtypes(exclude=[\"object\", \"datetime64[ns]\"]).columns:\n",
    "    Q1 = df[col].quantile(0.25)\n",
    "    Q3 = df[col].quantile(0.75)\n",
    "    IQR = Q3 - Q1    #IQR is interquartile range. \n",
    "\n",
    "    filter = (df[col] >= Q1 - 1.5 * IQR) & (df[col] <= Q3 + 1.5 *IQR)\n",
    "    df = df.loc[filter]  \n",
    "    \n",
    "    \n",
    "#Вывод коробчатых диаграм в цикле только по числовым атриубтам\n",
    "for col in df.select_dtypes(exclude=[\"object\", \"datetime64[ns]\"]).columns:\n",
    "    #построение фигуры\n",
    "    plt.figure()\n",
    "    #Заголовк\n",
    "    plt.title(col)\n",
    "    #Вывод диаграммы\n",
    "    plt.boxplot(df[col])\n",
    "    plt.show()\n"
   ]
  }
 ],
 "metadata": {
  "kernelspec": {
   "display_name": "Python 3",
   "language": "python",
   "name": "python3"
  },
  "language_info": {
   "codemirror_mode": {
    "name": "ipython",
    "version": 3
   },
   "file_extension": ".py",
   "mimetype": "text/x-python",
   "name": "python",
   "nbconvert_exporter": "python",
   "pygments_lexer": "ipython3",
   "version": "3.8.8"
  }
 },
 "nbformat": 4,
 "nbformat_minor": 5
}
