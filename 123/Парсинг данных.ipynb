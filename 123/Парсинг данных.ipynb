{
 "cells": [
  {
   "cell_type": "code",
   "execution_count": null,
   "id": "94141fb2",
   "metadata": {},
   "outputs": [],
   "source": [
    "df = pd.read_csv('data/train_2.csv', delimiter=';', low_memory=False)\n",
    "df\n",
    "\n",
    "df[\"INCOME_MAIN_AMT\"] = df[\"INCOME_MAIN_AMT\"].astype(str).str.replace(\",\", \".\").astype(float)\n",
    "\n",
    "plt.figure(figsize=(23, 15))\n",
    "sns.heatmap(df.corr(), annot = True, vmin=-1, vmax=1,cmap= 'coolwarm')\n",
    "\n",
    "df = df[['AGE', 'GENDER', 'EDUCATION_LEVEL', 'MARITAL_STATUS', 'INCOME_MAIN_AMT', 'REG_CODE']]\n",
    "df\n",
    "\n"
   ]
  }
 ],
 "metadata": {
  "kernelspec": {
   "display_name": "Python 3",
   "language": "python",
   "name": "python3"
  },
  "language_info": {
   "codemirror_mode": {
    "name": "ipython",
    "version": 3
   },
   "file_extension": ".py",
   "mimetype": "text/x-python",
   "name": "python",
   "nbconvert_exporter": "python",
   "pygments_lexer": "ipython3",
   "version": "3.8.8"
  }
 },
 "nbformat": 4,
 "nbformat_minor": 5
}
