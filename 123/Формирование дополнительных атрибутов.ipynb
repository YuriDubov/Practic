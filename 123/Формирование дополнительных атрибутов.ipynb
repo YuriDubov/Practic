{
 "cells": [
  {
   "cell_type": "code",
   "execution_count": null,
   "id": "a5c7ee59",
   "metadata": {},
   "outputs": [],
   "source": [
    "df['INCOME_MAIN_AMT_USD'] = df['INCOME_MAIN_AMT'].apply(lambda x: x / 80)\n",
    "df"
   ]
  }
 ],
 "metadata": {
  "kernelspec": {
   "display_name": "Python 3",
   "language": "python",
   "name": "python3"
  },
  "language_info": {
   "codemirror_mode": {
    "name": "ipython",
    "version": 3
   },
   "file_extension": ".py",
   "mimetype": "text/x-python",
   "name": "python",
   "nbconvert_exporter": "python",
   "pygments_lexer": "ipython3",
   "version": "3.8.8"
  }
 },
 "nbformat": 4,
 "nbformat_minor": 5
}
